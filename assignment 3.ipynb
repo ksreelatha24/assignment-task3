{
 "cells": [
  {
   "cell_type": "code",
   "execution_count": 39,
   "id": "1843b9c2",
   "metadata": {},
   "outputs": [
    {
     "name": "stdout",
     "output_type": "stream",
     "text": [
      "0\n",
      "1\n",
      "2\n",
      "4\n",
      "5\n"
     ]
    }
   ],
   "source": [
    "#1) Write a Python program that prints all the numbers from 0 to 6 except 3 and 6\n",
    "for y in range(0,7):\n",
    "    if y==3 or y==6:\n",
    "        continue\n",
    "    \n",
    "       \n",
    "    \n",
    "    print(y)\n"
   ]
  },
  {
   "cell_type": "code",
   "execution_count": 14,
   "id": "3db0691e",
   "metadata": {},
   "outputs": [
    {
     "name": "stdout",
     "output_type": "stream",
     "text": [
      "55\n"
     ]
    }
   ],
   "source": [
    "#2) Write a program to accept a number from a user and calculate the sum of all numbers from 1 to a given number\n",
    "\n",
    "count=0\n",
    "i=1\n",
    "while i<=10:\n",
    "    count+=i\n",
    "    i+=1\n",
    "print(count)    \n",
    "    \n",
    "   "
   ]
  },
  {
   "cell_type": "code",
   "execution_count": 17,
   "id": "19b64615",
   "metadata": {},
   "outputs": [
    {
     "name": "stdout",
     "output_type": "stream",
     "text": [
      "enter the number :1\n",
      "1\n",
      "2\n",
      "3\n",
      "4\n",
      "5\n",
      "6\n",
      "7\n",
      "8\n",
      "9\n",
      "10\n",
      "55\n"
     ]
    }
   ],
   "source": [
    "s=0\n",
    "i=int(input(\"enter the number :\"))\n",
    "\n",
    "for i in range(1,11):\n",
    "    print(i)\n",
    "    s=s+i\n",
    "print(s)    \n",
    "   "
   ]
  },
  {
   "cell_type": "code",
   "execution_count": 36,
   "id": "1535cd85",
   "metadata": {},
   "outputs": [
    {
     "name": "stdout",
     "output_type": "stream",
     "text": [
      "2*1=2\n",
      "2*2=4\n",
      "2*3=6\n",
      "2*4=8\n",
      "2*5=10\n",
      "2*6=12\n",
      "2*7=14\n",
      "2*8=16\n",
      "2*9=18\n",
      "2*10=20\n"
     ]
    }
   ],
   "source": [
    "#3)Write a program to print multiplication table of a given number(input)\n",
    "i=1\n",
    "multi=2\n",
    "for i in range(1,11):\n",
    "    print(\"{}*{}={}\".format (multi,i,multi*i))\n"
   ]
  },
  {
   "cell_type": "code",
   "execution_count": 3,
   "id": "baf171ba",
   "metadata": {},
   "outputs": [
    {
     "name": "stdout",
     "output_type": "stream",
     "text": [
      "4*1=4\n",
      "4*2=8\n",
      "4*3=12\n",
      "4*4=16\n",
      "4*5=20\n",
      "4*6=24\n",
      "4*7=28\n",
      "4*8=32\n",
      "4*9=36\n",
      "4*10=40\n"
     ]
    }
   ],
   "source": [
    "\n",
    "i=1\n",
    "multi=4\n",
    "while i<11:\n",
    "    print(\"{}*{}={}\".format(multi,i,multi*i))\n",
    "    i=i+1\n",
    "    "
   ]
  },
  {
   "cell_type": "code",
   "execution_count": 5,
   "id": "8b7859ad",
   "metadata": {},
   "outputs": [
    {
     "name": "stdout",
     "output_type": "stream",
     "text": [
      "enter the num1234789786\n",
      "10\n"
     ]
    }
   ],
   "source": [
    "#4) Write a program to count the total number of digits in a number using a while loop.\n",
    "a=input(\"enter the num\")\n",
    "count=0\n",
    "for y in a:\n",
    "    count=count+1\n",
    "print(count)    "
   ]
  },
  {
   "cell_type": "code",
   "execution_count": 1,
   "id": "7035045f",
   "metadata": {},
   "outputs": [
    {
     "name": "stdout",
     "output_type": "stream",
     "text": [
      "enter the number :1234321233\n",
      "10\n"
     ]
    }
   ],
   "source": [
    "a=input(\"enter the number :\")\n",
    "count=0\n",
    "l=len(a)\n",
    "while count<l:\n",
    "    count=count+1\n",
    "print(count)\n",
    "    \n",
    "\n"
   ]
  },
  {
   "cell_type": "code",
   "execution_count": 8,
   "id": "54669966",
   "metadata": {},
   "outputs": [
    {
     "name": "stdout",
     "output_type": "stream",
     "text": [
      "enter the number between 1 to 6 :1\n",
      "guess again\n",
      "enter the number between 1 to 6 :2\n",
      "guess again\n",
      "enter the number between 1 to 6 :3\n",
      "guess again\n",
      "enter the number between 1 to 6 :4\n",
      "guess again\n",
      "enter the number between 1 to 6 :5\n",
      "guess again\n",
      "enter the number between 1 to 6 :6\n",
      "well guessed\n"
     ]
    }
   ],
   "source": [
    "#5) Write a Python program to guess a number between 1 to 10\n",
    "#Example:\n",
    "#User is prompted to enter a guess. If the user guesses wrong then the prompt appears again until the guess is correct, on\n",
    "#successful guess, user will get a \"Well guessed!\" message, and the program will exit\n",
    "for i in range(0,9):\n",
    "    x=int(input(\"enter the number between 1 to 6 :\"))\n",
    "    if x!=6:\n",
    "        print(\"guess again\")   \n",
    "    else:\n",
    "        print(\"well guessed\")\n",
    "        break"
   ]
  },
  {
   "cell_type": "markdown",
   "id": "b8987a15",
   "metadata": {},
   "source": []
  },
  {
   "cell_type": "code",
   "execution_count": 2,
   "id": "4e9f25c3",
   "metadata": {},
   "outputs": [
    {
     "name": "stdout",
     "output_type": "stream",
     "text": [
      "1\n",
      "2\n",
      "fizz\n",
      "4\n",
      "buzz\n",
      "fizz\n",
      "7\n",
      "8\n",
      "fizz\n",
      "buzz\n",
      "11\n",
      "fizz\n",
      "13\n",
      "14\n",
      "fizzbuzz\n",
      "16\n",
      "17\n",
      "fizz\n",
      "19\n",
      "buzz\n",
      "fizz\n",
      "22\n",
      "23\n",
      "fizz\n",
      "buzz\n",
      "26\n",
      "fizz\n",
      "28\n",
      "29\n",
      "fizzbuzz\n",
      "31\n",
      "32\n",
      "fizz\n",
      "34\n",
      "buzz\n",
      "fizz\n",
      "37\n",
      "38\n",
      "fizz\n",
      "buzz\n",
      "41\n",
      "fizz\n",
      "43\n",
      "44\n",
      "fizzbuzz\n",
      "46\n",
      "47\n",
      "fizz\n",
      "49\n",
      "buzz\n",
      "fizz\n",
      "52\n",
      "53\n",
      "fizz\n",
      "buzz\n",
      "56\n",
      "fizz\n",
      "58\n",
      "59\n",
      "fizzbuzz\n"
     ]
    }
   ],
   "source": [
    "#6) Write a Python program which iterates the integers from 1 to 60. For multiples of three print \"Fizz\" instead of the\n",
    "#number and for the multiples of five print \"Buzz\". For numbers which are multiples of both three and five print \n",
    "#\"FizzBuzz\".\n",
    "\n",
    "for i in range(1,61):\n",
    "    if i%3==0 and i%5==0:\n",
    "        print(\"fizzbuzz\")\n",
    "    elif i%3==0:\n",
    "        print(\"fizz\")\n",
    "    elif i%5==0:\n",
    "        print(\"buzz\")\n",
    "    else:\n",
    "        print(i)\n",
    " \n"
   ]
  },
  {
   "cell_type": "code",
   "execution_count": 2,
   "id": "026e1709",
   "metadata": {},
   "outputs": [],
   "source": [
    "#7) Write a Python program that accepts a string and calculate the number of digits and letter\n",
    "#Example:\n",
    "#Input\n",
    "#Python 3.2 \n",
    "#Output\n",
    "#Letters 6\n",
    "#Digits 2"
   ]
  },
  {
   "cell_type": "code",
   "execution_count": 9,
   "id": "782ddf6f",
   "metadata": {},
   "outputs": [
    {
     "name": "stdout",
     "output_type": "stream",
     "text": [
      "type the word: python 3.2\n",
      "p\n",
      "y\n",
      "t\n",
      "h\n",
      "o\n",
      "n\n",
      "3\n",
      "2\n",
      "no of letters 6\n",
      "no of digits 2\n"
     ]
    }
   ],
   "source": [
    "s=input(\"type the word: \")\n",
    "d=l=0\n",
    "for y in s:\n",
    "    if y.isalpha():\n",
    "        l=l+1\n",
    "        print(y)\n",
    "    if y.isdigit():\n",
    "        d=d+1\n",
    "        print(y)\n",
    "        continue\n",
    "print(\"no of letters\",l)\n",
    "print(\"no of digits\",d)\n",
    "    "
   ]
  },
  {
   "cell_type": "code",
   "execution_count": 10,
   "id": "3c83391a",
   "metadata": {},
   "outputs": [],
   "source": [
    "#8) Write a Python program to check the validity of password input by users.\n",
    "#Validation:\n",
    "#At least 1 letter between [a-z] and 1 letter between [A-Z]. \n",
    "#At least 1 number between [0-9]. \n",
    "#At least 1 character from [$#@].\n",
    "#Minimum length 6 characters.\n",
    "#Maximum length 16 characters"
   ]
  },
  {
   "cell_type": "code",
   "execution_count": 13,
   "id": "c3402d81",
   "metadata": {},
   "outputs": [
    {
     "name": "stdout",
     "output_type": "stream",
     "text": [
      "enter the password: sreelatha@123\n",
      "password is invalid\n"
     ]
    }
   ],
   "source": [
    "a=input(\"enter the password: \")\n",
    "l=d=u=s=0\n",
    "c=[\"@,$,#\"]\n",
    "y=len(a)\n",
    "if y>=6 and y<=16:\n",
    "    for i in a:\n",
    "        if a.islower():\n",
    "            l=l+1\n",
    "        if a.isupper():\n",
    "            u=u+1\n",
    "        if a.isdigit():\n",
    "            d=d+1\n",
    "        if i in c:\n",
    "            s=s+1\n",
    "if l>=1 and u>=1 and d>=1 and s>=1 and l+u+d+s==len(y):\n",
    "    print(\"password is valid\")\n",
    "else:\n",
    "    print(\"password is invalid\")\n",
    "    \n",
    "\n"
   ]
  },
  {
   "cell_type": "code",
   "execution_count": 14,
   "id": "58d0c4a2",
   "metadata": {},
   "outputs": [
    {
     "name": "stdout",
     "output_type": "stream",
     "text": [
      "Enter the String:sreelatha\n",
      "The Reverse of the given String is: ahtaleers\n"
     ]
    }
   ],
   "source": [
    "#9) Write a program in Python to reverse a word by using while loop\n",
    "x=input(\"Enter the String:\")\n",
    "rs=\"\"\n",
    "count=len(x)\n",
    "while count>0:\n",
    "    rs+=x[count-1]\n",
    "    count=count-1  \n",
    "print (\"The Reverse of the given String is:\",rs)\n",
    "\n",
    "\n",
    "    \n"
   ]
  },
  {
   "cell_type": "code",
   "execution_count": 19,
   "id": "c7c74452",
   "metadata": {},
   "outputs": [
    {
     "name": "stdout",
     "output_type": "stream",
     "text": [
      "5\n"
     ]
    }
   ],
   "source": [
    "#10) Write a program which takes 10 integers as input using loop and print their average value on the screen\n",
    "x=[1,2,3,4,5,6,7,8,9,10]\n",
    "\n",
    "count=0\n",
    "for y in x:\n",
    "    count=count+y\n",
    "print(count//len(x))\n"
   ]
  },
  {
   "cell_type": "code",
   "execution_count": 20,
   "id": "7f40426b",
   "metadata": {},
   "outputs": [
    {
     "name": "stdout",
     "output_type": "stream",
     "text": [
      "Enter the numbers:1\n",
      "Enter the numbers:3\n",
      "Enter the numbers:4\n",
      "Enter the numbers:5\n",
      "Enter the numbers:6\n",
      "Enter the numbers:7\n",
      "Enter the numbers:8\n",
      "Enter the numbers:2\n",
      "Enter the numbers:q\n",
      "Exit\n",
      "The Average of the Numbers is:4.5\n",
      "The Product of the Numbers is:40320\n"
     ]
    }
   ],
   "source": [
    "#11) Write a program which takes integer inputs from user until he/she presses “q” (Ask to press q to quit after every integer \n",
    "#input). Print average and product of all numbers.\n",
    "list=[]\n",
    "newlist=[]\n",
    "p=1\n",
    "while True:\n",
    "    x=input('Enter the numbers:')\n",
    "    if x=='q':\n",
    "        print(\"Exit\")\n",
    "        break\n",
    "    list.append(x)\n",
    "for i in list:\n",
    "    a=int(i)\n",
    "    newlist.append(a)\n",
    "for j in newlist:\n",
    "    p=p*j\n",
    "total=sum(newlist)\n",
    "print(\"The Average of the Numbers is:{}\".format(total/len(newlist)))\n",
    "print(\"The Product of the Numbers is:{}\".format(p))\n"
   ]
  },
  {
   "cell_type": "code",
   "execution_count": 26,
   "id": "af757ffb",
   "metadata": {},
   "outputs": [
    {
     "name": "stdout",
     "output_type": "stream",
     "text": [
      "enter the str: sreelatha@1234\n",
      "print the letters sreelatha\n"
     ]
    }
   ],
   "source": [
    "#12) Write a Python program which will remove all digits or any other characters from the string except alphabets\n",
    "#Example:\n",
    "#Input:\n",
    "#“asd12.asd22”\n",
    "s=input(\"enter the str: \")\n",
    "r=\"\"\n",
    "a=1\n",
    "for y in s:\n",
    "    if y.isalpha():\n",
    "        r+=y\n",
    "        continue\n",
    "else:\n",
    "    print(\"print the letters\",r)\n",
    "        \n",
    "    "
   ]
  },
  {
   "cell_type": "code",
   "execution_count": 43,
   "id": "2051ea6f",
   "metadata": {},
   "outputs": [
    {
     "name": "stdout",
     "output_type": "stream",
     "text": [
      "enter the number :1\n",
      "1\n",
      "2\n",
      "3\n",
      "4\n",
      "5\n",
      "6\n",
      "7\n",
      "8\n",
      "9\n",
      "10\n",
      "The Sum is : 30\n"
     ]
    }
   ],
   "source": [
    "#13) Write a python program to find the sum of all even \n",
    "#numbers from 0 to 10\n",
    "s=0\n",
    "i=int(input(\"enter the number :\"))\n",
    "\n",
    "for i in range(1,11):\n",
    "    print(i)\n",
    "    if i%2==0:\n",
    "        s=s+i\n",
    "    else:\n",
    "        continue\n",
    "print(\"The Sum is :\",s)\n",
    "   \n",
    "   \n"
   ]
  },
  {
   "cell_type": "code",
   "execution_count": 46,
   "id": "42203320",
   "metadata": {},
   "outputs": [
    {
     "name": "stdout",
     "output_type": "stream",
     "text": [
      "Enter the number:6\n",
      "5\n",
      "4\n",
      "3\n",
      "2\n",
      "1\n"
     ]
    }
   ],
   "source": [
    "#4) Write a python program which will accept a digit and print All the numbers before it till 0\n",
    "#Example:\n",
    "#Input: \n",
    "#5\n",
    "#Output:\n",
    "#4\n",
    "#3\n",
    "#2\n",
    "#1\n",
    "\n",
    "y=int(input(\"Enter the number:\"))\n",
    "while y>1:\n",
    "    print(y-1)\n",
    "    y=y-1\n"
   ]
  },
  {
   "cell_type": "code",
   "execution_count": 48,
   "id": "ca481f00",
   "metadata": {},
   "outputs": [
    {
     "name": "stdout",
     "output_type": "stream",
     "text": [
      "Enter the number:1\n",
      "1\n",
      "2\n",
      "3\n",
      "4\n",
      "5\n",
      "6\n",
      "7\n",
      "8\n",
      "9\n",
      "10\n"
     ]
    }
   ],
   "source": [
    "y=int(input(\"Enter the number:\"))\n",
    "for y in range(1,11):\n",
    "    print(y)\n"
   ]
  },
  {
   "cell_type": "code",
   "execution_count": 1,
   "id": "2af1f133",
   "metadata": {},
   "outputs": [
    {
     "name": "stdout",
     "output_type": "stream",
     "text": [
      "Enter first number : 2\n",
      "Enter the Sign : +\n",
      "Enter second number : 4\n",
      "2.0 + 4.0 = 6.0\n",
      "Enter first number : 2\n",
      "Enter the Sign : //\n",
      "Enter second number : 3\n",
      "Invalid Sign\n",
      "Enter first number : c\n",
      "End\n"
     ]
    }
   ],
   "source": [
    "\n",
    "# 15) Create a dynamic calculator which will run continually till you press “c”\n",
    "a=1\n",
    "while a>=1:\n",
    "    x=(input(\"Enter first number : \"))\n",
    "    if x=='C' or x=='c':\n",
    "        print(\"End\")\n",
    "        break\n",
    "    y=(input(\"Enter the Sign : \"))\n",
    "    z=float(input(\"Enter second number : \"))\n",
    "    if y=='+':\n",
    "        print(\"{} + {} = {}\".format(float(x),z,float(x)+z))\n",
    "    elif y=='-':\n",
    "        print(\"{} - {} = {}\".format(float(x),z,float(x)-z))\n",
    "    elif y=='*':\n",
    "        print(\"{} * {} = {}\".format(float(x),z,float(x)*z))\n",
    "    elif y=='/':\n",
    "        print(\"{} / {} = {}\".format(float(x),z,float(x)/z))\n",
    "    elif y=='%':\n",
    "        print(\"{} / {} = {}\".format(float(x),z,float(x)%z))\n",
    "    elif y=='**':\n",
    "        print(\"{}^{} = {}\".format(float(x),z,float(x)**z))\n",
    "    else:\n",
    "        print(\"Invalid Sign\")\n",
    "a=a+1      "
   ]
  },
  {
   "cell_type": "code",
   "execution_count": null,
   "id": "757954ef",
   "metadata": {},
   "outputs": [],
   "source": []
  }
 ],
 "metadata": {
  "kernelspec": {
   "display_name": "Python 3 (ipykernel)",
   "language": "python",
   "name": "python3"
  },
  "language_info": {
   "codemirror_mode": {
    "name": "ipython",
    "version": 3
   },
   "file_extension": ".py",
   "mimetype": "text/x-python",
   "name": "python",
   "nbconvert_exporter": "python",
   "pygments_lexer": "ipython3",
   "version": "3.9.13"
  }
 },
 "nbformat": 4,
 "nbformat_minor": 5
}
